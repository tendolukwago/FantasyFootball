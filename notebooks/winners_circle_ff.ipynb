{
 "cells": [
  {
   "cell_type": "markdown",
   "metadata": {},
   "source": [
    "## Exploring the Sleeper API"
   ]
  },
  {
   "cell_type": "code",
   "execution_count": 1,
   "metadata": {},
   "outputs": [],
   "source": [
    "##Import Dependencies\n",
    "from data.ff_db import FFDB\n",
    "from data.sleeper_api import SleeperAPI\n",
    "\n",
    "##Instantiate Classes\n",
    "sleeperAPI = SleeperAPI()\n",
    "ffDB = FFDB()\n",
    "ffDB.create_tables()"
   ]
  },
  {
   "cell_type": "code",
   "execution_count": 5,
   "metadata": {},
   "outputs": [
    {
     "name": "stdout",
     "output_type": "stream",
     "text": [
      "6731 record inserted.\n"
     ]
    }
   ],
   "source": [
    "##Create Variables\n",
    "player_bank = []\n",
    "\n",
    "##Fetch players from sleeper\n",
    "players = sleeperAPI.fetch_players()\n",
    "\n",
    "##Create the query string\n",
    "for key, value in players.items():\n",
    "\n",
    "    player_bank.append((\n",
    "                value.get('gsis_id'),\n",
    "                value.get('depth_chart_position'),\n",
    "                value.get('position'),\n",
    "                value.get('depth_chart_order'),\n",
    "                value.get('college'),\n",
    "                value.get('birth_country'),\n",
    "                value.get('birth_city'),\n",
    "                value.get('weight'),\n",
    "                value.get('first_name'),\n",
    "                value.get('birth_date'),\n",
    "                value.get('espn_id'),\n",
    "                value.get('age'),\n",
    "                value.get('stats_id'),\n",
    "                value.get('yahoo_id'),\n",
    "                value.get('rotowire_id'),\n",
    "                value.get('player_id'),\n",
    "                value.get('search_last_name'),\n",
    "                value.get('sportradar_id'),\n",
    "                value.get('years_exp'),\n",
    "                value.get('injury_start_date'),\n",
    "                value.get('injury_body_part'),\n",
    "                value.get('rotoworld_id'),\n",
    "                value.get('last_name'),\n",
    "                value.get('number'),\n",
    "                value.get('sport'),\n",
    "                value.get('team'),\n",
    "                value.get('full_name'),\n",
    "                value.get('height'),\n",
    "                value.get('practice_description'),\n",
    "                value.get('birth_state'),\n",
    "                value.get('active'),\n",
    "                value.get('hashtag'),\n",
    "                value.get('fantasy_data_id'),\n",
    "                value.get('search_first_name'),\n",
    "                value.get('search_full_name'),\n",
    "                value.get('status'),\n",
    "                value.get('search_rank'),\n",
    "                value.get('injury_notes'),\n",
    "                value.get('high_school'),\n",
    "                value.get('injury_status')\n",
    "    ))\n",
    "    \n",
    "ffDB.insert_players(player_bank)"
   ]
  },
  {
   "cell_type": "code",
   "execution_count": 2,
   "metadata": {
    "scrolled": true
   },
   "outputs": [
    {
     "name": "stdout",
     "output_type": "stream",
     "text": [
      "1558  rows week stats\n",
      "row 1:  (None, None, None, None, None, None, None, 1.0, 1.0, 47.0, None, None, None, None, None, None, None, None, None, None, None, None, None, None, None, None, None, None, None, None, None, None, None, None, None, None, None, None, None, None, None, None, None, '5381', 2018, 26.0, 74.0, 63.0, 58.0, None, 1, 4.0)\n",
      "1558 record inserted.\n"
     ]
    }
   ],
   "source": [
    "##Create Variables\n",
    "week_stats_bank = []\n",
    "season = 2018\n",
    "week = 1\n",
    "##Fetch players from sleeper\n",
    "week_stats = sleeperAPI.get_week_stats(season=season, week=week)\n",
    "\n",
    "##Create the query string\n",
    "for key, value in week_stats.items():\n",
    "\n",
    "    week_stats_bank.append((\n",
    "        value.get('bonus_rush_rec_yd_100'),\n",
    "        value.get('bonus_rec_yd_100'),\n",
    "        value.get('bonus_rec_wr'),\n",
    "        value.get('cmp_pct'),\n",
    "        value.get('fum_lost'),\n",
    "        value.get('fum'),\n",
    "        value.get('gs'),\n",
    "        value.get('gp'),\n",
    "        value.get('gms_active'),\n",
    "        value.get('humidity'),\n",
    "        value.get('off_snp'),\n",
    "        value.get('rec_ypt'),\n",
    "        value.get('rec_ypr'),\n",
    "        value.get('rec_yd'),\n",
    "        value.get('rec_tgt'),\n",
    "        value.get('rec_td'),\n",
    "        value.get('rec_pct'),\n",
    "        value.get('rec_lng'),\n",
    "        value.get('rec_fd'),\n",
    "        value.get('rec_5_9'),\n",
    "        value.get('rec_30_39'),\n",
    "        value.get('rec_20_29'),\n",
    "        value.get('rec_10_19'),\n",
    "        value.get('rec'),\n",
    "        value.get('rush_ypa'),\n",
    "        value.get('rush_yd'),\n",
    "        value.get('rush_td'),\n",
    "        value.get('rush_att'),\n",
    "        value.get('pts_std'),\n",
    "        value.get('pts_ppr'),\n",
    "        value.get('pts_half_ppr'),\n",
    "        value.get('pass_ypc'),\n",
    "        value.get('pass_ypa'),\n",
    "        value.get('pass_yd'),\n",
    "        value.get('pass_td_40p'),\n",
    "        value.get('pass_td'),\n",
    "        value.get('pass_rtg'),\n",
    "        value.get('pass_int'),\n",
    "        value.get('pass_inc'),\n",
    "        value.get('pass_fd'),\n",
    "        value.get('pass_cmp_40p'),\n",
    "        value.get('pass_cmp'),\n",
    "        value.get('pass_att'),\n",
    "        key,\n",
    "        season,\n",
    "        value.get('tm_st_snp'),\n",
    "        value.get('tm_off_snp'),\n",
    "        value.get('tm_def_snp'),\n",
    "        value.get('temperature'),\n",
    "        value.get('td'),\n",
    "        week,\n",
    "        value.get('wind_speed')\n",
    "    ))\n",
    "\n",
    "print(len(week_stats_bank), \" rows week stats\")\n",
    "print(\"row 1: \", week_stats_bank[0])\n",
    "ffDB.insert_weekly_player_stats(week_stats_bank)"
   ]
  }
 ],
 "metadata": {
  "kernelspec": {
   "display_name": "Python 3",
   "language": "python",
   "name": "python3"
  },
  "language_info": {
   "codemirror_mode": {
    "name": "ipython",
    "version": 3
   },
   "file_extension": ".py",
   "mimetype": "text/x-python",
   "name": "python",
   "nbconvert_exporter": "python",
   "pygments_lexer": "ipython3",
   "version": "3.6.8"
  }
 },
 "nbformat": 4,
 "nbformat_minor": 2
}
